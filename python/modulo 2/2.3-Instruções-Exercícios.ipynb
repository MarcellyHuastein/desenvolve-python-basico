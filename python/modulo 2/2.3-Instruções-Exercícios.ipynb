{
  "cells": [
    {
      "cell_type": "markdown",
      "metadata": {
        "id": "1pCTdOHonv5f"
      },
      "source": [
        "# Módulo 2\n",
        "\n",
        "## 2.3 Instruções e Expressões\n",
        "\n",
        "### Q1\n",
        "\n",
        "Faça um programa que armazene o valor de 20 reais de salário por hora de um trabalhador, e o número de 40 horas trabalhadas na semana. Com essas informações, calcule e imprima:\n",
        "- Salário semanal bruto\n",
        "- Valor descontado por semana INSS (10% do bruto)\n",
        "- Valor descontado por semana pelo sindicato (5% do bruto)\n",
        "- Salário semanal líquido (Bruto - Descontos)"
      ]
    },
    {
      "cell_type": "code",
      "execution_count": null,
      "metadata": {
        "id": "hVbX0I97nj6M"
      },
      "outputs": [],
      "source": [
        "## Escreva e execute seu código aqui\n",
        "# Definindo as variáveis\n",
        "salario_por_hora = 20.0\n",
        "horas_trabalhadas_por_semana = 40\n",
        "\n",
        "# Calculando o salário semanal bruto\n",
        "salario_semanal_bruto = salario_por_hora * horas_trabalhadas_por_semana\n",
        "\n",
        "# Calculando os descontos\n",
        "desconto_inss = 0.10 * salario_semanal_bruto\n",
        "desconto_sindicato = 0.05 * salario_semanal_bruto\n",
        "\n",
        "# Calculando o salário semanal líquido\n",
        "salario_semanal_liquido = salario_semanal_bruto - desconto_inss - desconto_sindicato\n",
        "\n",
        "# Imprimindo os resultados\n",
        "print(f\"Salário semanal bruto: R${salario_semanal_bruto:.2f}\")\n",
        "print(f\"Valor descontado por semana INSS (10% do bruto): R${desconto_inss:.2f}\")\n",
        "print(f\"Valor descontado por semana pelo sindicato (5% do bruto): R${desconto_sindicato:.2f}\")\n",
        "print(f\"Salário semanal líquido (Bruto - Descontos): R${salario_semanal_liquido:.2f}\")"
      ]
    },
    {
      "cell_type": "markdown",
      "metadata": {
        "id": "pIxKX9J2oGZ1"
      },
      "source": [
        "### Q2\n",
        "\n",
        "Altere o programa anterior para a partir dos valores de horas trabalhadas por semana e salário por hora, calcular **em somente duas instruções**:\n",
        "- Salário semanal bruto\n",
        "- Salário semanal líquido com todos os descontos. Para a segunda instrução, realize todos os cálculos aritméticos em uma expressão composta.\n"
      ]
    },
    {
      "cell_type": "code",
      "execution_count": null,
      "metadata": {
        "id": "pAHw9Xf9oGoi"
      },
      "outputs": [],
      "source": [
        "## Escreva e execute seu código aqui\n",
        "# Definindo as variáveis\n",
        "salario_por_hora = 20.0\n",
        "horas_trabalhadas_por_semana = 40\n",
        "\n",
        "# Calculando o salário semanal bruto\n",
        "salario_semanal_bruto = salario_por_hora * horas_trabalhadas_por_semana\n",
        "\n",
        "# Calculando o salário semanal líquido com todos os descontos em uma única expressão\n",
        "salario_semanal_liquido = salario_semanal_bruto * (1 - 0.10 - 0.05)\n",
        "\n",
        "# Imprimindo os resultados\n",
        "print(f\"Salário semanal bruto: R${salario_semanal_bruto:.2f}\")\n",
        "print(f\"Salário semanal líquido com todos os descontos: R${salario_semanal_liquido:.2f}\")"
      ]
    },
    {
      "cell_type": "markdown",
      "metadata": {
        "id": "m8tlHRuWpBOB"
      },
      "source": [
        "### Q3\n",
        "\n",
        "Você está desenvolvendo um software de conversão de moeda e precisa calcular o valor equivalente em yuan chinês a partir de uma quantia em real. A taxa de câmbio é de 0.69 BRL (real) para 1 CNY (yuan). Escreva um programa que define em uma variável uma quantia em reais (BRL) e calcula o valor equivalente em yuan (CNY). Imprima o resultado."
      ]
    },
    {
      "cell_type": "code",
      "execution_count": null,
      "metadata": {
        "id": "2bPw7uF6oeL9"
      },
      "outputs": [],
      "source": [
        "## Escreva e execute seu código aqui\n",
        "# Definindo a quantia em reais (BRL) e a taxa de câmbio\n",
        "quantia_em_brl = 100.0  # Substitua este valor pela quantia desejada em reais\n",
        "taxa_de_cambio = 0.69\n",
        "\n",
        "# Calculando o valor equivalente em yuan (CNY)\n",
        "valor_em_cny = quantia_em_brl / taxa_de_cambio\n",
        "\n",
        "# Imprimindo o resultado\n",
        "print(f\"Valor em BRL: R${quantia_em_brl:.2f}\")\n",
        "print(f\"Valor equivalente em CNY: ¥{valor_em_cny:.2f}\")"
      ]
    },
    {
      "cell_type": "markdown",
      "metadata": {
        "id": "-Na3ltDCp74A"
      },
      "source": [
        "### Q4\n",
        "\n",
        "Você é um treinador de corrida e deseja calcular a velocidade média que um atleta precisa manter para completar a Maratona Internacional de São Silvestre, que tem uma distância total de 42.195 km. A fórmula para calcular a velocidade média ($v\\_media$) é dada por $v\\_media = \\frac{distancia}{tempo}$ . Escreva um programa em Python para calcular a velocidade média necessária para completar a maratona em 3 horas.\n",
        "\n",
        "**Calcule e imprima o resultado em metros/segundo**, ou seja, converta a distância de quilômetros para metros ($metro = \\frac{km}{1000}$) e a velocidade de horas para segundos $(segundo = \\frac{hora}{3600})$."
      ]
    },
    {
      "cell_type": "code",
      "execution_count": null,
      "metadata": {
        "id": "Bn6l8kcSrE4L"
      },
      "outputs": [],
      "source": [
        "## Escreva e execute seu código aqui\n",
        "# Definindo a distância da maratona em quilômetros e o tempo em horas\n",
        "distancia_km = 42.195\n",
        "tempo_horas = 3\n",
        "\n",
        "# Convertendo a distância de quilômetros para metros\n",
        "distancia_metros = distancia_km * 1000\n",
        "\n",
        "# Convertendo o tempo de horas para segundos\n",
        "tempo_segundos = tempo_horas * 3600\n",
        "\n",
        "# Calculando a velocidade média em metros por segundo\n",
        "velocidade_media_mps = distancia_metros / tempo_segundos\n",
        "\n",
        "# Imprimindo o resultado\n",
        "print(f\"Velocidade média necessária: {velocidade_media_mps:.2f} m/s\")"
      ]
    }
  ],
  "metadata": {
    "colab": {
      "provenance": []
    },
    "kernelspec": {
      "display_name": "Python 3",
      "name": "python3"
    },
    "language_info": {
      "name": "python"
    }
  },
  "nbformat": 4,
  "nbformat_minor": 0
}
