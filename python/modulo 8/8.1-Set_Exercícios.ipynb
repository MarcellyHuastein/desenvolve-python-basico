{
 "cells": [
  {
   "cell_type": "markdown",
   "id": "0d5035b5",
   "metadata": {},
   "source": [
    "# Set\n",
    "\n",
    "## Aula 8.1"
   ]
  },
  {
   "cell_type": "markdown",
   "id": "0bdece85",
   "metadata": {},
   "source": [
    "### Q1. \n",
    "\n",
    "Dada uma string qualquer, use seu conhecimento de sets para apresentar os caracteres únicos que aparecem na string, ordenados alfabeticamente e sem duplicatas. Preste atenção em duplicatas de maiúsculas e minúsculas.\n"
   ]
  },
  {
   "cell_type": "code",
   "execution_count": null,
   "id": "0a258eba",
   "metadata": {},
   "outputs": [],
   "source": [
    "frase = \"O rato roeu a roupa do Robson\"\n",
    "\n",
    "## Implemente aqui sua solução\n",
    "def caracteres_unicos_ordenados(frase):\n",
    "    # Remove espaços e converte a string para minúsculas\n",
    "    frase = frase.replace(\" \", \"\").lower()\n",
    "    \n",
    "    # Cria um conjunto de caracteres únicos\n",
    "    caracteres_unicos = set(frase)\n",
    "    \n",
    "    # Ordena os caracteres e os transforma em uma lista\n",
    "    caracteres_ordenados = sorted(caracteres_unicos)\n",
    "    \n",
    "    # Junta os caracteres em uma string\n",
    "    resultado = ''.join(caracteres_ordenados)\n",
    "    \n",
    "    return resultado\n",
    "\n",
    "# Exemplo de uso\n",
    "frase = \"O rato roeu a roupa do Robson\"\n",
    "resultado = caracteres_unicos_ordenados(frase)\n",
    "print(f\"Caracteres únicos ordenados: {resultado}\")\n",
    "\n"
   ]
  },
  {
   "cell_type": "markdown",
   "id": "0856bd56",
   "metadata": {},
   "source": [
    "### Q2\n",
    "\n",
    "Desenvolva uma função em Python chamada ```tem_elementos_comuns()``` que recebe duas listas como parâmetros e retorna True se houver algum elemento comum entre as duas listas, e False caso contrário. Utilize sets para resolver essa tarefa."
   ]
  },
  {
   "cell_type": "code",
   "execution_count": null,
   "id": "f7ab6736",
   "metadata": {},
   "outputs": [],
   "source": [
    "# Implemente aqui a função tem_elementos_comuns()\n",
    "\n",
    "def tem_elementos_comuns(lista1, lista2):\n",
    "    # Converte as listas em sets\n",
    "    set1 = set(lista1)\n",
    "    set2 = set(lista2)\n",
    "    \n",
    "    # Verifica se há interseção entre os dois sets\n",
    "    return not set1.isdisjoint(set2)\n",
    "\n",
    "# Testa a função\n",
    "lista1 = [1, 2, 3, 4]\n",
    "lista2 = [3, 4, 5, 6, 7]\n",
    "resultado = tem_elementos_comuns(lista1, lista2)\n",
    "print(resultado)  # Saída esperada: True\n"
   ]
  },
  {
   "cell_type": "markdown",
   "id": "649a5082",
   "metadata": {},
   "source": [
    "### Q3. \n",
    "\n",
    "Você vai coletar de diferentes turmas de alunos seus interesses em atividades extra curriculares dentre futebol, vôlei, rugby, música, teatro, ações comunitárias. Informe o conjunto de atividades comuns a todas a turmas. Pode preencher o iterável turmas com valores arbitrários. \n"
   ]
  },
  {
   "cell_type": "code",
   "execution_count": null,
   "id": "880a9927",
   "metadata": {},
   "outputs": [],
   "source": [
    "turmas = [\n",
    "     {'ações comunitárias', 'futebol', 'música', 'rugby'},\n",
    "     {'ações comunitárias', 'música', 'rugby', 'teatro'},\n",
    "     {'música', 'rugby', 'teatro', 'vôlei'},\n",
    "     {'música', 'vôlei', 'rugby'},\n",
    "     {'ações comunitárias', 'futebol', 'rugby', 'teatro', 'vôlei'},\n",
    "     {'ações comunitárias', 'futebol', 'rugby'},\n",
    "     {'ações comunitárias', 'rugby', 'teatro', 'vôlei'},\n",
    "     {'ações comunitárias', 'rugby', 'teatro', 'vôlei'},\n",
    "     {'ações comunitárias', 'rugby', 'vôlei'}\n",
    "]\n",
    "\n",
    "\n",
    "## Implemente aqui sua solução\n",
    "\n",
    "def atividades_comuns(turmas):\n",
    "    # Inicializa o conjunto de atividades comuns com o conjunto da primeira turma\n",
    "    atividades_comuns = set(turmas[0])\n",
    "    \n",
    "    # Itera sobre as turmas restantes e faz a interseção com o conjunto de atividades comuns\n",
    "    for turma in turmas[1:]:\n",
    "        atividades_comuns &= turma\n",
    "    \n",
    "    return atividades_comuns\n",
    "\n",
    "# Exemplo de uso\n",
    "turmas = [\n",
    "    {'ações comunitárias', 'futebol', 'música', 'rugby'},\n",
    "    {'ações comunitárias', 'música', 'rugby', 'teatro'},\n",
    "    {'música', 'rugby', 'teatro', 'vôlei'},\n",
    "    {'música', 'vôlei', 'rugby'},\n",
    "    {'ações comunitárias', 'futebol', 'rugby', 'teatro', 'vôlei'},\n",
    "    {'ações comunitárias', 'futebol', 'rugby'},\n",
    "    {'ações comunitárias', 'rugby', 'teatro', 'vôlei'},\n",
    "    {'ações comunitárias', 'rugby', 'teatro', 'vôlei'},\n",
    "    {'ações comunitárias', 'rugby', 'vôlei'}\n",
    "]\n",
    "\n",
    "resultado = atividades_comuns(turmas)\n",
    "print(\"Atividades comuns a todas as turmas:\", resultado)\n"
   ]
  },
  {
   "cell_type": "markdown",
   "id": "021e2b1e",
   "metadata": {},
   "source": [
    "### Q4. \n",
    "Considere duas listas que são duplicatas uma da outra, exceto por um elemento, exemplo:\n",
    "```\n",
    "A = [1, 4, 5, 7, 9]\n",
    "B = [4, 5, 7, 9]\n",
    "```\n",
    "\n",
    "Encontre e apresente o elemento diferente, informando também qual das listas está desfalcada. Para o exemplo acima, a saída esperada é\n",
    "```\n",
    "O elemento 1 está faltando na segunda lista\n",
    "```"
   ]
  },
  {
   "cell_type": "code",
   "execution_count": null,
   "id": "608761a4",
   "metadata": {},
   "outputs": [],
   "source": [
    "## Implemente aqui sua solução\n",
    "def encontrar_elemento_faltante(lista1, lista2):\n",
    "    # Converta as listas em conjuntos\n",
    "    conjunto1 = set(lista1)\n",
    "    conjunto2 = set(lista2)\n",
    "    \n",
    "    # Encontre o elemento que está na lista1 mas não na lista2\n",
    "    faltando_na_lista2 = conjunto1 - conjunto2\n",
    "    # Encontre o elemento que está na lista2 mas não na lista1\n",
    "    faltando_na_lista1 = conjunto2 - conjunto1\n",
    "    \n",
    "    # Determine qual lista está faltando o elemento e qual é esse elemento\n",
    "    if faltando_na_lista2:\n",
    "        elemento_faltante = faltando_na_lista2.pop()\n",
    "        lista_faltante = 2\n",
    "    else:\n",
    "        elemento_faltante = faltando_na_lista1.pop()\n",
    "        lista_faltante = 1\n",
    "    \n",
    "    return elemento_faltante, lista_faltante\n",
    "\n",
    "# Exemplo de uso\n",
    "A = [1, 4, 5, 7, 9]\n",
    "B = [4, 5, 7, 9]\n",
    "\n",
    "elemento, lista_faltante = encontrar_elemento_faltante(A, B)\n",
    "print(f\"O elemento {elemento} está faltando na lista {lista_faltante}\")\n"
   ]
  },
  {
   "cell_type": "markdown",
   "id": "ddf180c1",
   "metadata": {},
   "source": [
    "### Q5.\n",
    "\n",
    "Panagramas são frases que contém todas as letras do alfabeto pelo menos uma vez. Crie uma função ```checa_panagrama``` que recebe uma string e retorna ```True``` caso seja um panagrama ou ```False```caso contrário. Use seu conhecimento de sets para solucionar essa questão.\n",
    "\n",
    "Ex: \n",
    "```\n",
    "Entrada: \"The quick brown fox jumps over the lazy dog\" \n",
    "Saída: É um panagrama\n",
    "```\n",
    "\n",
    "```\n",
    "Entrada: \"Python é uma linguagem de programação\" \n",
    "Saída: Não é um panagrama\n",
    "```"
   ]
  },
  {
   "cell_type": "code",
   "execution_count": null,
   "id": "4e8b0390",
   "metadata": {},
   "outputs": [],
   "source": [
    "## Implemente aqui sua solução\n",
    "def checa_panagrama(frase):\n",
    "    # Defina o conjunto de todas as letras do alfabeto\n",
    "    alfabeto = set('abcdefghijklmnopqrstuvwxyz')\n",
    "    \n",
    "    # Converta a frase para minúsculas e crie um conjunto com os caracteres únicos\n",
    "    caracteres = set(frase.lower())\n",
    "    \n",
    "    # Verifique se todas as letras do alfabeto estão presentes na frase\n",
    "    return alfabeto.issubset(caracteres)\n",
    "\n",
    "# Testes da função\n",
    "entrada1 = \"The quick brown fox jumps over the lazy dog\"\n",
    "entrada2 = \"Python é uma linguagem de programação\"\n",
    "\n",
    "# Verifique e imprima se são panagramas\n",
    "print(\"É um panagrama\" if checa_panagrama(entrada1) else \"Não é um panagrama\")\n",
    "print(\"É um panagrama\" if checa_panagrama(entrada2) else \"Não é um panagrama\")\n"
   ]
  }
 ],
 "metadata": {
  "kernelspec": {
   "display_name": "Python 3 (ipykernel)",
   "language": "python",
   "name": "python3"
  },
  "language_info": {
   "codemirror_mode": {
    "name": "ipython",
    "version": 3
   },
   "file_extension": ".py",
   "mimetype": "text/x-python",
   "name": "python",
   "nbconvert_exporter": "python",
   "pygments_lexer": "ipython3",
   "version": "3.9.6"
  }
 },
 "nbformat": 4,
 "nbformat_minor": 5
}
