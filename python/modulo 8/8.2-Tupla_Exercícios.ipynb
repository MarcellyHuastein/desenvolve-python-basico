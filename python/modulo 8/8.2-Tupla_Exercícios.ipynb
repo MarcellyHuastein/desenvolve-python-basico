{
 "cells": [
  {
   "cell_type": "markdown",
   "id": "0d5035b5",
   "metadata": {},
   "source": [
    "# Tupla\n",
    "\n",
    "## Aula 8.2"
   ]
  },
  {
   "cell_type": "markdown",
   "id": "0bdece85",
   "metadata": {},
   "source": [
    "### Q1. \n",
    "\n",
    "Escreva uma função ```calcula_area_perimetro``` que recebe **apenas um parâmetro** ```dimensoes``` e calcula a área e o perímetro a partir das dimensões dadas. \n",
    "- ```dimensoes``` é uma tupla (largura, comprimento) com as dimensões de um terreno retangular\n",
    "- Sua função deve calcular e retornar as seguintes operações\n",
    "   - $area = largura \\times comprimento$\n",
    "   - $perimetro = 2\\times(largura + comprimento)$\n"
   ]
  },
  {
   "cell_type": "code",
   "execution_count": null,
   "id": "0a258eba",
   "metadata": {},
   "outputs": [],
   "source": [
    "# Implemente aqui a função calcula_area_perimetro\n",
    "def calcula_area_perimetro(dimensoes):\n",
    "    largura, comprimento = dimensoes\n",
    "    area = largura * comprimento\n",
    "    perimetro = 2 * (largura + comprimento)\n",
    "    return area, perimetro\n",
    "\n",
    "# Exemplo de uso\n",
    "largura = 5\n",
    "comprimento = 7\n",
    "\n",
    "# Chamada da função\n",
    "retorno = calcula_area_perimetro((largura, comprimento))\n",
    "print(retorno, type(retorno))\n"
   ]
  },
  {
   "cell_type": "markdown",
   "id": "cbdcb986",
   "metadata": {},
   "source": [
    "### Q2.\n",
    "\n",
    "Dada uma string, imprima todas as vogais que aparecem na string, bem como todos os índices onde elas ocorrem. Para isso, use a função ```enumerate```.\n"
   ]
  },
  {
   "cell_type": "code",
   "execution_count": null,
   "id": "1f6b1f2d",
   "metadata": {},
   "outputs": [],
   "source": [
    "frase = \"O rato roeu a roupa da Alice\"\n",
    "\n",
    "# Implemente aqui sua solução\n",
    "def imprimir_vogais_e_indices(frase):\n",
    "    # Defina as vogais\n",
    "    vogais = 'aeiouAEIOU'\n",
    "    \n",
    "    # Crie um dicionário para armazenar os resultados\n",
    "    resultado = {}\n",
    "\n",
    "    # Itere sobre a frase com enumerate para obter índices e caracteres\n",
    "    for index, char in enumerate(frase):\n",
    "        if char in vogais:\n",
    "            if char not in resultado:\n",
    "                resultado[char] = []\n",
    "            resultado[char].append(index)\n",
    "\n",
    "    # Imprima os resultados\n",
    "    for vogal, indices in resultado.items():\n",
    "        print(f\"Vogal '{vogal}' aparece nos índices: {indices}\")\n",
    "\n",
    "# Exemplo de uso\n",
    "frase = \"O rato roeu a roupa da Alice\"\n",
    "imprimir_vogais_e_indices(frase)\n"
   ]
  },
  {
   "cell_type": "markdown",
   "id": "8d46663f",
   "metadata": {},
   "source": [
    "### Q3.\n",
    "\n",
    "Escreva uma função em Python chamada ```ordenar_tuplas``` que recebe uma lista de tuplas, cada uma contendo o nome de um aluno e sua respectiva média, e retorna uma nova lista ordenada em ordem decrescente de médias."
   ]
  },
  {
   "cell_type": "code",
   "execution_count": null,
   "id": "469f2e6e",
   "metadata": {},
   "outputs": [],
   "source": [
    "# Implemente aqui a função ordenar_tuplas\n",
    "def ordenar_tuplas(lista):\n",
    "    # Ordena a lista de tuplas com base na segunda posição de cada tupla (a média)\n",
    "    # e retorna a lista ordenada em ordem decrescente\n",
    "    return sorted(lista, key=lambda x: x[1], reverse=True)\n",
    "\n",
    "# Exemplo de uso\n",
    "alunos_notas = [('Alice', 8.5), ('Bob', 7.2), ('Charlie', 9.0), ('David', 8.8)]\n",
    "resultado = ordenar_tuplas(alunos_notas)\n",
    "print(resultado)\n"
   ]
  },
  {
   "cell_type": "markdown",
   "id": "e0268fae",
   "metadata": {},
   "source": [
    "### Q4.\n",
    "\n",
    "Escreva uma função em Python chamada ```comprimir_tuplas``` que recebe uma lista de tuplas, cada uma contendo uma palavra e um número, e retorna uma nova lista de tuplas onde palavras idênticas são agrupadas e seus números são somados.\n",
    "\n"
   ]
  },
  {
   "cell_type": "code",
   "execution_count": null,
   "id": "30a221f3",
   "metadata": {},
   "outputs": [],
   "source": [
    "# Implemente aqui a função comprimir_tuplas\n",
    "def comprimir_tuplas(lista_tuplas):\n",
    "    # Dicionário para armazenar a soma dos valores para cada palavra\n",
    "    dicionario = {}\n",
    "    \n",
    "    # Itera sobre a lista de tuplas\n",
    "    for palavra, numero in lista_tuplas:\n",
    "        if palavra in dicionario:\n",
    "            dicionario[palavra] += numero\n",
    "        else:\n",
    "            dicionario[palavra] = numero\n",
    "    \n",
    "    # Converte o dicionário de volta para uma lista de tuplas\n",
    "    lista_comprimida = list(dicionario.items())\n",
    "    \n",
    "    return lista_comprimida\n",
    "\n",
    "# Exemplo de uso\n",
    "tuplas_originais = [('maçã', 3), ('banana', 2), ('maçã', 5), ('laranja', 1), ('banana', 3)]\n",
    "resultado = comprimir_tuplas(tuplas_originais)\n",
    "print(resultado)\n"
   ]
  },
  {
   "cell_type": "markdown",
   "id": "649a5082",
   "metadata": {},
   "source": [
    "### Q5. \n",
    "\n",
    "- Escreva um script que peça o nome e a idade de todos na fila de uma balada. Crie uma lista de tuplas com os pares ```(nome, idade)``` de cada um. \n",
    "- Em seguida crie e imprima duas tuplas apenas com os nomes, uma com os menores de idade que não poderão entrar, e uma com os maiores de idade (```idade >= 18```). \n",
    "\n"
   ]
  },
  {
   "cell_type": "code",
   "execution_count": null,
   "id": "47cb0573",
   "metadata": {},
   "outputs": [],
   "source": [
    "## Implemente aqui sua solução\n",
    "def obter_dados_fila():\n",
    "    fila = []\n",
    "    \n",
    "    while True:\n",
    "        nome = input(\"Digite o nome (ou 'fim' para encerrar): \")\n",
    "        if nome.lower() == 'fim':\n",
    "            break\n",
    "        idade = int(input(f\"Digite a idade de {nome}: \"))\n",
    "        fila.append((nome, idade))\n",
    "    \n",
    "    return fila\n",
    "\n",
    "def separar_maiores_menores(fila):\n",
    "    menores_idade = []\n",
    "    maiores_idade = []\n",
    "    \n",
    "    for nome, idade in fila:\n",
    "        if idade >= 18:\n",
    "            maiores_idade.append(nome)\n",
    "        else:\n",
    "            menores_idade.append(nome)\n",
    "    \n",
    "    return tuple(menores_idade), tuple(maiores_idade)\n",
    "\n",
    "# Solicitar dados dos participantes da fila\n",
    "fila = obter_dados_fila()\n",
    "\n",
    "# Separar nomes em menores e maiores de idade\n",
    "menores, maiores = separar_maiores_menores(fila)\n",
    "\n",
    "# Imprimir resultados\n",
    "print(\"Menores de idade:\", menores)\n",
    "print(\"Maiores de idade:\", maiores)\n"
   ]
  }
 ],
 "metadata": {
  "kernelspec": {
   "display_name": "Python 3 (ipykernel)",
   "language": "python",
   "name": "python3"
  },
  "language_info": {
   "codemirror_mode": {
    "name": "ipython",
    "version": 3
   },
   "file_extension": ".py",
   "mimetype": "text/x-python",
   "name": "python",
   "nbconvert_exporter": "python",
   "pygments_lexer": "ipython3",
   "version": "3.9.6"
  }
 },
 "nbformat": 4,
 "nbformat_minor": 5
}
