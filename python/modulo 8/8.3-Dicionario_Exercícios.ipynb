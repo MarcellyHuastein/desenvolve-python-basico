{
 "cells": [
  {
   "cell_type": "markdown",
   "id": "0d5035b5",
   "metadata": {},
   "source": [
    "# Dicionários\n",
    "\n",
    "## Aula 8.3"
   ]
  },
  {
   "cell_type": "markdown",
   "id": "0bdece85",
   "metadata": {},
   "source": [
    "### Q1. \n",
    "\n",
    "Escreva uma função em Python chamada ```contagem_caracteres``` que recebe uma string como parâmetro e retorna um dicionário onde as chaves são os caracteres presentes na string e os valores são a contagem de cada caractere.\n"
   ]
  },
  {
   "cell_type": "code",
   "execution_count": null,
   "id": "09a9845d",
   "metadata": {},
   "outputs": [],
   "source": [
    "# Implemente aqui a função contagem_caracteres\n",
    "def contagem_caracteres(frase):\n",
    "    # Cria um dicionário vazio para armazenar a contagem dos caracteres\n",
    "    contagem = {}\n",
    "    \n",
    "    # Itera sobre cada caractere na string\n",
    "    for caractere in frase:\n",
    "        # Se o caractere já está no dicionário, incrementa sua contagem\n",
    "        if caractere in contagem:\n",
    "            contagem[caractere] += 1\n",
    "        # Caso contrário, adiciona o caractere ao dicionário com contagem 1\n",
    "        else:\n",
    "            contagem[caractere] = 1\n",
    "    \n",
    "    # Retorna o dicionário com a contagem dos caracteres\n",
    "    return contagem\n",
    "\n",
    "# Exemplo de uso\n",
    "frase = \"python programming\"\n",
    "resultado = contagem_caracteres(frase)\n",
    "print(resultado)\n"
   ]
  },
  {
   "cell_type": "markdown",
   "id": "649a5082",
   "metadata": {},
   "source": [
    "### Q2. \n",
    "\n",
    "Baixe o arquivo contendo o roteiro do filme brasileiro \"Estômago\" e salve em seu computador com o nome \"estomago.txt\".\n",
    "\n",
    "https://aplauso.imprensaoficial.com.br/edicoes/12.0.813.502/12.0.813.502.txt\n",
    "\n",
    "- Escreva um script python que abre o arquivo de texto e cria um dicionário contando a quantidade de vezes que cada palavra aparece no texto.\n",
    "- Em seguida ordene o dicionário de forma decrescente pelos valores. Dessa maneira ele irá apresentar as palavras mais frequentes no início.\n",
    "- Apresente na tela o dicionário ordenado\n"
   ]
  },
  {
   "cell_type": "code",
   "execution_count": null,
   "id": "47cb0573",
   "metadata": {},
   "outputs": [],
   "source": [
    "# Implemente aqui sua solução\n",
    "from collections import Counter\n",
    "import re\n",
    "\n",
    "def contar_palavras(arquivo):\n",
    "    # Abre o arquivo e lê o conteúdo\n",
    "    with open(arquivo, 'r', encoding='utf-8') as f:\n",
    "        texto = f.read()\n",
    "    \n",
    "    # Remove pontuações e torna tudo minúsculo\n",
    "    texto = re.sub(r'[^\\w\\s]', '', texto).lower()\n",
    "    \n",
    "    # Divide o texto em palavras\n",
    "    palavras = texto.split()\n",
    "    \n",
    "    # Conta a frequência de cada palavra\n",
    "    contagem = Counter(palavras)\n",
    "    \n",
    "    # Ordena o dicionário de forma decrescente pelos valores\n",
    "    contagem_ordenada = dict(sorted(contagem.items(), key=lambda item: item[1], reverse=True))\n",
    "    \n",
    "    return contagem_ordenada\n",
    "\n",
    "# Caminho para o arquivo\n",
    "arquivo = 'estomago.txt'\n",
    "\n",
    "# Chama a função e armazena o resultado\n",
    "resultado = contar_palavras(arquivo)\n",
    "\n",
    "# Imprime o dicionário ordenado\n",
    "print(resultado)\n"
   ]
  },
  {
   "cell_type": "markdown",
   "id": "bb62d219",
   "metadata": {},
   "source": [
    "### Q3. \n",
    "\n",
    "Crie uma função chamada ```mesclar_dicionarios``` que recebe dois dicionários como parâmetros e retorna um novo dicionário contendo a fusão dos dois. Se houver chaves comuns, o maior valor deve prevalecer."
   ]
  },
  {
   "cell_type": "code",
   "execution_count": null,
   "id": "f4363612",
   "metadata": {},
   "outputs": [],
   "source": [
    "# Implemente aqui a função mesclar_dicionarios\n",
    "def mesclar_dicionarios(d1, d2):\n",
    "    # Cria um novo dicionário como uma cópia do primeiro dicionário\n",
    "    resultado = dict(d1)\n",
    "    \n",
    "    # Atualiza o novo dicionário com os valores do segundo dicionário\n",
    "    for chave, valor in d2.items():\n",
    "        if chave in resultado:\n",
    "            # Se a chave já existe, atualiza com o maior valor\n",
    "            resultado[chave] = max(resultado[chave], valor)\n",
    "        else:\n",
    "            # Caso contrário, simplesmente adiciona a nova chave\n",
    "            resultado[chave] = valor\n",
    "    \n",
    "    return resultado\n",
    "\n",
    "# Exemplo de uso\n",
    "dicionario1 = {'a': 1, 'b': 2, 'c': 3}\n",
    "dicionario2 = {'b': 4, 'd': 5}\n",
    "resultado = mesclar_dicionarios(dicionario1, dicionario2)\n",
    "print(resultado)\n",
    "# Saída esperada: {'a': 1, 'b': 4, 'c': 3, 'd': 5}\n",
    "\n"
   ]
  },
  {
   "cell_type": "markdown",
   "id": "8710b1a7",
   "metadata": {},
   "source": [
    "### Q4.\n",
    "\n",
    "Desenvolva uma função em Python chamada ```filtrar_dicionario``` que recebe um dicionário e uma lista de chaves como parâmetros e retorna um novo dicionário contendo apenas as chaves que estão presentes na lista."
   ]
  },
  {
   "cell_type": "code",
   "execution_count": null,
   "id": "0b7ee921",
   "metadata": {},
   "outputs": [],
   "source": [
    "# Implemente aqui a função filtrar_dicionario\n",
    "def filtrar_dicionario(dicionario, lista_chaves):\n",
    "    # Cria um novo dicionário com as chaves que estão na lista de chaves\n",
    "    resultado = {chave: dicionario[chave] for chave in lista_chaves if chave in dicionario}\n",
    "    return resultado\n",
    "\n",
    "# Exemplo de uso\n",
    "dados = {'a': 1, 'b': 2, 'c': 3, 'd': 4, 'e': 5}\n",
    "chaves_filtradas = ['a', 'c', 'e']\n",
    "resultado = filtrar_dicionario(dados, chaves_filtradas)\n",
    "print(resultado)\n",
    "# Saída esperada: {'a': 1, 'c': 3, 'e': 5}"
   ]
  },
  {
   "cell_type": "markdown",
   "id": "3203c51e",
   "metadata": {},
   "source": [
    "### Q5.\n",
    "\n",
    "Você está responsável por analisar os resultados de uma votação. Cada voto é representado por um dicionário com o nome do candidato e a quantidade de votos que recebeu em uma determinada sessão eleitoral. Escreva uma função chamada ```resultado_votacao``` que recebe uma lista de dicionários de votos e retorna um dicionário onde as chaves são os nomes dos candidatos, e os valores são tuplas ```(total, percentual)``` com o total de votos recebidos por cada candidato e o percentual em relação à soma total de votos em todos os candidatos. "
   ]
  },
  {
   "cell_type": "code",
   "execution_count": null,
   "id": "2c856eee",
   "metadata": {},
   "outputs": [],
   "source": [
    "# Implemente aqui a função resultado_votacao\n",
    "def resultado_votacao(votos):\n",
    "    # Inicializa um dicionário para armazenar o total de votos por candidato\n",
    "    totais = {}\n",
    "    \n",
    "    # Itera sobre cada dicionário na lista de votos\n",
    "    for voto in votos:\n",
    "        for candidato, quantidade in voto.items():\n",
    "            if candidato in totais:\n",
    "                totais[candidato] += quantidade\n",
    "            else:\n",
    "                totais[candidato] = quantidade\n",
    "    \n",
    "    # Calcula o total geral de votos\n",
    "    total_geral = sum(totais.values())\n",
    "    \n",
    "    # Cria o dicionário de resultados com totais e percentuais\n",
    "    resultado = {\n",
    "        candidato: (\n",
    "            total, \n",
    "            round((total / total_geral) * 100, 2)\n",
    "        ) for candidato, total in totais.items()\n",
    "    }\n",
    "    \n",
    "    return resultado\n",
    "\n",
    "# Exemplo de uso\n",
    "votos = [\n",
    "    {'candidato_A': 120, 'candidato_B': 85, 'candidato_C': 90},\n",
    "    {'candidato_A': 110, 'candidato_B': 95, 'candidato_C': 80},\n",
    "    {'candidato_A': 130, 'candidato_B': 78, 'candidato_C': 105},\n",
    "]\n",
    "resultado = resultado_votacao(votos)\n",
    "print(resultado)\n"
   ]
  }
 ],
 "metadata": {
  "kernelspec": {
   "display_name": "Python 3 (ipykernel)",
   "language": "python",
   "name": "python3"
  },
  "language_info": {
   "codemirror_mode": {
    "name": "ipython",
    "version": 3
   },
   "file_extension": ".py",
   "mimetype": "text/x-python",
   "name": "python",
   "nbconvert_exporter": "python",
   "pygments_lexer": "ipython3",
   "version": "3.9.6"
  }
 },
 "nbformat": 4,
 "nbformat_minor": 5
}
